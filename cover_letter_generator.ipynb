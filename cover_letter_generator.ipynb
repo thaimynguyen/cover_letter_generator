{
 "cells": [
  {
   "cell_type": "markdown",
   "metadata": {},
   "source": [
    "<h1><center>COVER LETTER GENERATOR USING PYTHON AND MAILMERGE</center></h1>"
   ]
  },
  {
   "cell_type": "markdown",
   "metadata": {},
   "source": [
    "### Required Installation\n",
    "#### for populating the docx template\n",
    "conda install lxml\n",
    "\n",
    "pip install docx-mailmerge\n"
   ]
  },
  {
   "cell_type": "markdown",
   "metadata": {},
   "source": [
    "### Step 0:  Import libraries"
   ]
  },
  {
   "cell_type": "code",
   "execution_count": 1,
   "metadata": {},
   "outputs": [],
   "source": [
    "from mailmerge import MailMerge\n",
    "import pandas as pd\n",
    "import os\n",
    "from docx2pdf import convert"
   ]
  },
  {
   "cell_type": "markdown",
   "metadata": {},
   "source": [
    "<a id='step_1'></a>\n",
    "### Step 1: Create a mailmerge document from sample cover letter file"
   ]
  },
  {
   "cell_type": "markdown",
   "metadata": {},
   "source": [
    "Firstly, we need to create a cover letter Word template and then insert \"MergeField\" for those keywords that would be auto-replaced.\n",
    "Example: company name, job title, etc.\n",
    "Please refer to [this tutorial](https://pbpython.com/python-word-template.html#word-merge-fields) for how to insert Merge Fields in a docx file."
   ]
  },
  {
   "cell_type": "markdown",
   "metadata": {},
   "source": [
    "After the Merge Fields are defined, we can start importing the cover letter Word file"
   ]
  },
  {
   "cell_type": "code",
   "execution_count": 2,
   "metadata": {},
   "outputs": [],
   "source": [
    "template = \"sample_cv_with_MergeField.docx\""
   ]
  },
  {
   "cell_type": "markdown",
   "metadata": {},
   "source": [
    "We can convert template into a Mailmerge document and look at all of the MergeFields:"
   ]
  },
  {
   "cell_type": "code",
   "execution_count": 3,
   "metadata": {},
   "outputs": [
    {
     "name": "stdout",
     "output_type": "stream",
     "text": [
      "{'date', 'company_comment', 'job_number', 'job_title_uppercase', 'job_title', 'company_name'}\n"
     ]
    }
   ],
   "source": [
    "document = MailMerge(template)\n",
    "print(document.get_merge_fields())"
   ]
  },
  {
   "cell_type": "markdown",
   "metadata": {},
   "source": [
    "### Step 2: Create a CSV file to input the required text fields"
   ]
  },
  {
   "cell_type": "markdown",
   "metadata": {},
   "source": [
    "Next step is to create a CSV table which includes all the required text fields for the automated cover letters.\n",
    "The column headers in the CSV table should match the MergeFields created from [Step 1](#step_1) above."
   ]
  },
  {
   "cell_type": "markdown",
   "metadata": {},
   "source": [
    "Load the CSV input file"
   ]
  },
  {
   "cell_type": "code",
   "execution_count": 4,
   "metadata": {},
   "outputs": [
    {
     "data": {
      "text/html": [
       "<div>\n",
       "<style scoped>\n",
       "    .dataframe tbody tr th:only-of-type {\n",
       "        vertical-align: middle;\n",
       "    }\n",
       "\n",
       "    .dataframe tbody tr th {\n",
       "        vertical-align: top;\n",
       "    }\n",
       "\n",
       "    .dataframe thead th {\n",
       "        text-align: right;\n",
       "    }\n",
       "</style>\n",
       "<table border=\"1\" class=\"dataframe\">\n",
       "  <thead>\n",
       "    <tr style=\"text-align: right;\">\n",
       "      <th></th>\n",
       "      <th>No</th>\n",
       "      <th>date</th>\n",
       "      <th>company_name</th>\n",
       "      <th>job_title</th>\n",
       "      <th>job_number</th>\n",
       "      <th>company_comment</th>\n",
       "    </tr>\n",
       "  </thead>\n",
       "  <tbody>\n",
       "    <tr>\n",
       "      <th>0</th>\n",
       "      <td>1</td>\n",
       "      <td>May 21, 2021</td>\n",
       "      <td>Amazon</td>\n",
       "      <td>Data Analyst</td>\n",
       "      <td>123456</td>\n",
       "      <td>As a loyal customer who is impressed with your...</td>\n",
       "    </tr>\n",
       "    <tr>\n",
       "      <th>1</th>\n",
       "      <td>2</td>\n",
       "      <td>May 23, 2021</td>\n",
       "      <td>Apple</td>\n",
       "      <td>Data Engineer</td>\n",
       "      <td>123576</td>\n",
       "      <td>As a loyal customer who is impressed with your...</td>\n",
       "    </tr>\n",
       "    <tr>\n",
       "      <th>2</th>\n",
       "      <td>3</td>\n",
       "      <td>May 23, 2021</td>\n",
       "      <td>Google</td>\n",
       "      <td>Data Scientist</td>\n",
       "      <td>123123</td>\n",
       "      <td>As a loyal customer who is impressed with your...</td>\n",
       "    </tr>\n",
       "  </tbody>\n",
       "</table>\n",
       "</div>"
      ],
      "text/plain": [
       "   No          date company_name       job_title  job_number  \\\n",
       "0   1  May 21, 2021       Amazon    Data Analyst      123456   \n",
       "1   2  May 23, 2021        Apple   Data Engineer      123576   \n",
       "2   3  May 23, 2021       Google  Data Scientist      123123   \n",
       "\n",
       "                                     company_comment  \n",
       "0  As a loyal customer who is impressed with your...  \n",
       "1  As a loyal customer who is impressed with your...  \n",
       "2  As a loyal customer who is impressed with your...  "
      ]
     },
     "execution_count": 4,
     "metadata": {},
     "output_type": "execute_result"
    }
   ],
   "source": [
    "job_list = pd.read_csv(\"cv_field_input.csv\")\n",
    "job_list"
   ]
  },
  {
   "cell_type": "markdown",
   "metadata": {},
   "source": [
    "### Step 3: Create a list of dictionaries for each set of input fields"
   ]
  },
  {
   "cell_type": "markdown",
   "metadata": {},
   "source": [
    "Convert the job_list data frame into a list of dictionaries each of which collects all required text fields for one cover letter using Pandas <font color='red'>.to_dict()</font> method"
   ]
  },
  {
   "cell_type": "code",
   "execution_count": 5,
   "metadata": {},
   "outputs": [
    {
     "data": {
      "text/plain": [
       "[{'No': 1,\n",
       "  'date': 'May 21, 2021',\n",
       "  'company_name': 'Amazon',\n",
       "  'job_title': 'Data Analyst',\n",
       "  'job_number': 123456,\n",
       "  'company_comment': 'As a loyal customer who is impressed with your leading position in the online market, as well as your customer service'},\n",
       " {'No': 2,\n",
       "  'date': 'May 23, 2021',\n",
       "  'company_name': 'Apple',\n",
       "  'job_title': 'Data Engineer',\n",
       "  'job_number': 123576,\n",
       "  'company_comment': 'As a loyal customer who is impressed with your top-notch customer service as well as your corporate vision'},\n",
       " {'No': 3,\n",
       "  'date': 'May 23, 2021',\n",
       "  'company_name': 'Google',\n",
       "  'job_title': 'Data Scientist',\n",
       "  'job_number': 123123,\n",
       "  'company_comment': 'As a loyal customer who is impressed with your business growth as well as your mission statement'}]"
      ]
     },
     "execution_count": 5,
     "metadata": {},
     "output_type": "execute_result"
    }
   ],
   "source": [
    "job_list = job_list.to_dict(orient='records')\n",
    "job_list"
   ]
  },
  {
   "cell_type": "markdown",
   "metadata": {},
   "source": [
    "### Step 4: Merge the input fields from each dictionary into the cover letter document"
   ]
  },
  {
   "cell_type": "markdown",
   "metadata": {},
   "source": [
    "The final step is to fill in the required values from job_list and create a cover letter  Word file for each job.\n",
    "This can be done using MailMerge <font color='red'>.merge()</font> method and <font color='red'>.write()</font> method."
   ]
  },
  {
   "cell_type": "code",
   "execution_count": 6,
   "metadata": {},
   "outputs": [],
   "source": [
    "for job in job_list:\n",
    "    document = MailMerge(template)\n",
    "    company_name = job['company_name']\n",
    "    document.merge(\n",
    "        date = job['date'],\n",
    "        company_name = job['company_name'],\n",
    "        job_title = job['job_title'],\n",
    "        job_title_uppercase = job['job_title'].upper(),\n",
    "        job_number = str(job['job_number']),\n",
    "        company_comment = job['company_comment']\n",
    "        )\n",
    "    # Save a new cover letter Word file in folder \"Completed_CVs\"\n",
    "    document.write(f'Completed_CVs/Cover_Letter_{company_name}.docx')\n",
    "document.close()   "
   ]
  },
  {
   "cell_type": "markdown",
   "metadata": {},
   "source": [
    "Check if the cover letter files have been generated."
   ]
  },
  {
   "cell_type": "code",
   "execution_count": 7,
   "metadata": {},
   "outputs": [
    {
     "data": {
      "text/plain": [
       "['Cover_Letter_Amazon.docx',\n",
       " 'Cover_Letter_Apple.docx',\n",
       " 'Cover_Letter_Google.docx']"
      ]
     },
     "execution_count": 7,
     "metadata": {},
     "output_type": "execute_result"
    }
   ],
   "source": [
    "os.listdir('Completed_CVs')"
   ]
  },
  {
   "cell_type": "markdown",
   "metadata": {},
   "source": [
    "If you are satisfied with the cover letters, you can covert Word file to PDF file for job application submissions. This can be done using <font color='red'>convert()</font> function from <font color='red'>docx2pdf</font> module."
   ]
  },
  {
   "cell_type": "code",
   "execution_count": 8,
   "metadata": {},
   "outputs": [
    {
     "data": {
      "application/vnd.jupyter.widget-view+json": {
       "model_id": "f61a408a37e14e9f8d5bce09c016ac96",
       "version_major": 2,
       "version_minor": 0
      },
      "text/plain": [
       "HBox(children=(HTML(value=''), FloatProgress(value=0.0, max=3.0), HTML(value='')))"
      ]
     },
     "metadata": {},
     "output_type": "display_data"
    },
    {
     "name": "stdout",
     "output_type": "stream",
     "text": [
      "\n"
     ]
    }
   ],
   "source": [
    "convert(\"Completed_CVs\")"
   ]
  },
  {
   "cell_type": "code",
   "execution_count": null,
   "metadata": {},
   "outputs": [],
   "source": []
  }
 ],
 "metadata": {
  "kernelspec": {
   "display_name": "Python 3",
   "language": "python",
   "name": "python3"
  },
  "language_info": {
   "codemirror_mode": {
    "name": "ipython",
    "version": 3
   },
   "file_extension": ".py",
   "mimetype": "text/x-python",
   "name": "python",
   "nbconvert_exporter": "python",
   "pygments_lexer": "ipython3",
   "version": "3.8.5"
  }
 },
 "nbformat": 4,
 "nbformat_minor": 4
}
